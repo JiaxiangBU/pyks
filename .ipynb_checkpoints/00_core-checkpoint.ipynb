{
 "cells": [
  {
   "cell_type": "code",
   "execution_count": 1,
   "metadata": {},
   "outputs": [],
   "source": [
    "# default_exp ks"
   ]
  },
  {
   "cell_type": "code",
   "execution_count": 23,
   "metadata": {},
   "outputs": [
    {
     "name": "stdout",
     "output_type": "stream",
     "text": [
      "Converted 00_core.ipynb.\n",
      "Converted index.ipynb.\n"
     ]
    }
   ],
   "source": [
    "from nbdev.export import *\n",
    "notebook2script()"
   ]
  },
  {
   "cell_type": "markdown",
   "metadata": {},
   "source": [
    "# pyks\n",
    "\n",
    "> Calculate KS statistic for models"
   ]
  },
  {
   "cell_type": "markdown",
   "metadata": {},
   "source": [
    "## example 1"
   ]
  },
  {
   "cell_type": "code",
   "execution_count": 3,
   "metadata": {},
   "outputs": [],
   "source": [
    "import pandas as pd\n",
    "import numpy as np"
   ]
  },
  {
   "cell_type": "code",
   "execution_count": 4,
   "metadata": {},
   "outputs": [],
   "source": [
    "data = pd.read_csv('refs/two_class_example.csv')"
   ]
  },
  {
   "cell_type": "markdown",
   "metadata": {},
   "source": [
    "Use tab to get the path fast."
   ]
  },
  {
   "cell_type": "code",
   "execution_count": 5,
   "metadata": {},
   "outputs": [
    {
     "name": "stdout",
     "output_type": "stream",
     "text": [
      "                y          yhat\n",
      "count  500.000000  5.000000e+02\n",
      "mean     0.516000  5.447397e-01\n",
      "std      0.500244  4.138621e-01\n",
      "min      0.000000  1.794262e-07\n",
      "25%      0.000000  7.289481e-02\n",
      "50%      1.000000  6.569442e-01\n",
      "75%      1.000000  9.794348e-01\n",
      "max      1.000000  9.999965e-01\n",
      "y       500\n",
      "yhat    500\n",
      "dtype: int64\n"
     ]
    }
   ],
   "source": [
    "data.describe().pipe(print)\n",
    "data.count().pipe(print)"
   ]
  },
  {
   "cell_type": "code",
   "execution_count": 6,
   "metadata": {},
   "outputs": [],
   "source": [
    "# export\n",
    "'''Calculation KS statistic for a model.'''\n",
    "\n",
    "import pandas as pd\n",
    "import numpy as np\n",
    "\n",
    "def summary(df, n_group = 10):\n",
    "    '''Calculation KS statistic\n",
    "    Inspired by one WenSui Liu's blog at\n",
    "    https://statcompute.wordpress.com/2012/11/18/calculating-k-s-statistic-with-python/\n",
    "\n",
    "    Parmaters\n",
    "    ---------\n",
    "    df: pandas.DataFrame\n",
    "        with M x N size.\n",
    "        M length is the number of bins.\n",
    "        N measures the number of metrics related to KS.\n",
    "    n_group: float\n",
    "             The number of cutted groups.\n",
    "\n",
    "    Returns\n",
    "    -------\n",
    "    agg2  : The DataFrame return with KS and related metrics.'''\n",
    "    \n",
    "    df[\"good\"] = df['y']\n",
    "    df[\"bad\"] = 1 - df['y']\n",
    "    df[\"score\"] = df['yhat']\n",
    "\n",
    "    df['bucket'] = pd.qcut(df.score, n_group, duplicates = 'drop')\n",
    "\n",
    "    grouped = df.groupby('bucket', as_index = False)\n",
    "\n",
    "    agg1 = pd.DataFrame()\n",
    "    agg1['min_scr'] = grouped.min().score\n",
    "    agg1['max_scr'] = grouped.max().score\n",
    "    agg1['bads'] = grouped.sum().bad\n",
    "    agg1['goods'] = grouped.sum().good\n",
    "    agg1['total'] = agg1.bads + agg1.goods\n",
    "\n",
    "    agg2 = (agg1.sort_values(by = 'min_scr')).reset_index(drop = True)\n",
    "    agg2['odds'] = (agg2.goods / agg2.bads).apply('{0:.2f}'.format)\n",
    "    agg2['bad_rate'] = (agg2.bads / agg2.total).apply('{0:.2%}'.format)\n",
    "    agg2['ks'] = np.round(((agg2.bads / df.bad.sum()).cumsum() - (agg2.goods / df.good.sum()).cumsum()), 4) * 100\n",
    "    flag = lambda x: '<----' if x == agg2.ks.max() else ''\n",
    "    agg2['max_ks'] = agg2.ks.apply(flag)\n",
    "\n",
    "    print(\"The function `summary` is depreciated, use `perf.table()`\")\n",
    "\n",
    "    return agg2\n"
   ]
  },
  {
   "cell_type": "code",
   "execution_count": 7,
   "metadata": {},
   "outputs": [
    {
     "name": "stdout",
     "output_type": "stream",
     "text": [
      "The function `summary` is depreciated, use `ks.summary()`\n"
     ]
    },
    {
     "data": {
      "text/html": [
       "<div>\n",
       "<style scoped>\n",
       "    .dataframe tbody tr th:only-of-type {\n",
       "        vertical-align: middle;\n",
       "    }\n",
       "\n",
       "    .dataframe tbody tr th {\n",
       "        vertical-align: top;\n",
       "    }\n",
       "\n",
       "    .dataframe thead th {\n",
       "        text-align: right;\n",
       "    }\n",
       "</style>\n",
       "<table border=\"1\" class=\"dataframe\">\n",
       "  <thead>\n",
       "    <tr style=\"text-align: right;\">\n",
       "      <th></th>\n",
       "      <th>min_scr</th>\n",
       "      <th>max_scr</th>\n",
       "      <th>bads</th>\n",
       "      <th>goods</th>\n",
       "      <th>total</th>\n",
       "      <th>odds</th>\n",
       "      <th>bad_rate</th>\n",
       "      <th>ks</th>\n",
       "      <th>max_ks</th>\n",
       "    </tr>\n",
       "  </thead>\n",
       "  <tbody>\n",
       "    <tr>\n",
       "      <th>0</th>\n",
       "      <td>1.794262e-07</td>\n",
       "      <td>0.002773</td>\n",
       "      <td>50</td>\n",
       "      <td>0</td>\n",
       "      <td>50</td>\n",
       "      <td>0.00</td>\n",
       "      <td>100.00%</td>\n",
       "      <td>20.66</td>\n",
       "      <td></td>\n",
       "    </tr>\n",
       "    <tr>\n",
       "      <th>1</th>\n",
       "      <td>2.810221e-03</td>\n",
       "      <td>0.036310</td>\n",
       "      <td>49</td>\n",
       "      <td>1</td>\n",
       "      <td>50</td>\n",
       "      <td>0.02</td>\n",
       "      <td>98.00%</td>\n",
       "      <td>40.52</td>\n",
       "      <td></td>\n",
       "    </tr>\n",
       "    <tr>\n",
       "      <th>2</th>\n",
       "      <td>3.670582e-02</td>\n",
       "      <td>0.122027</td>\n",
       "      <td>43</td>\n",
       "      <td>7</td>\n",
       "      <td>50</td>\n",
       "      <td>0.16</td>\n",
       "      <td>86.00%</td>\n",
       "      <td>55.58</td>\n",
       "      <td></td>\n",
       "    </tr>\n",
       "    <tr>\n",
       "      <th>3</th>\n",
       "      <td>1.225460e-01</td>\n",
       "      <td>0.325715</td>\n",
       "      <td>37</td>\n",
       "      <td>13</td>\n",
       "      <td>50</td>\n",
       "      <td>0.35</td>\n",
       "      <td>74.00%</td>\n",
       "      <td>65.83</td>\n",
       "      <td></td>\n",
       "    </tr>\n",
       "    <tr>\n",
       "      <th>4</th>\n",
       "      <td>3.269821e-01</td>\n",
       "      <td>0.655164</td>\n",
       "      <td>31</td>\n",
       "      <td>19</td>\n",
       "      <td>50</td>\n",
       "      <td>0.61</td>\n",
       "      <td>62.00%</td>\n",
       "      <td>71.27</td>\n",
       "      <td>&lt;----</td>\n",
       "    </tr>\n",
       "    <tr>\n",
       "      <th>5</th>\n",
       "      <td>6.587248e-01</td>\n",
       "      <td>0.853443</td>\n",
       "      <td>22</td>\n",
       "      <td>28</td>\n",
       "      <td>50</td>\n",
       "      <td>1.27</td>\n",
       "      <td>44.00%</td>\n",
       "      <td>69.51</td>\n",
       "      <td></td>\n",
       "    </tr>\n",
       "    <tr>\n",
       "      <th>6</th>\n",
       "      <td>8.561391e-01</td>\n",
       "      <td>0.958957</td>\n",
       "      <td>7</td>\n",
       "      <td>43</td>\n",
       "      <td>50</td>\n",
       "      <td>6.14</td>\n",
       "      <td>14.00%</td>\n",
       "      <td>55.74</td>\n",
       "      <td></td>\n",
       "    </tr>\n",
       "    <tr>\n",
       "      <th>7</th>\n",
       "      <td>9.623505e-01</td>\n",
       "      <td>0.987179</td>\n",
       "      <td>1</td>\n",
       "      <td>49</td>\n",
       "      <td>50</td>\n",
       "      <td>49.00</td>\n",
       "      <td>2.00%</td>\n",
       "      <td>37.16</td>\n",
       "      <td></td>\n",
       "    </tr>\n",
       "    <tr>\n",
       "      <th>8</th>\n",
       "      <td>9.875471e-01</td>\n",
       "      <td>0.997897</td>\n",
       "      <td>2</td>\n",
       "      <td>48</td>\n",
       "      <td>50</td>\n",
       "      <td>24.00</td>\n",
       "      <td>4.00%</td>\n",
       "      <td>19.38</td>\n",
       "      <td></td>\n",
       "    </tr>\n",
       "    <tr>\n",
       "      <th>9</th>\n",
       "      <td>9.979229e-01</td>\n",
       "      <td>0.999997</td>\n",
       "      <td>0</td>\n",
       "      <td>50</td>\n",
       "      <td>50</td>\n",
       "      <td>inf</td>\n",
       "      <td>0.00%</td>\n",
       "      <td>-0.00</td>\n",
       "      <td></td>\n",
       "    </tr>\n",
       "  </tbody>\n",
       "</table>\n",
       "</div>"
      ],
      "text/plain": [
       "        min_scr   max_scr  bads  goods  total   odds bad_rate     ks max_ks\n",
       "0  1.794262e-07  0.002773    50      0     50   0.00  100.00%  20.66       \n",
       "1  2.810221e-03  0.036310    49      1     50   0.02   98.00%  40.52       \n",
       "2  3.670582e-02  0.122027    43      7     50   0.16   86.00%  55.58       \n",
       "3  1.225460e-01  0.325715    37     13     50   0.35   74.00%  65.83       \n",
       "4  3.269821e-01  0.655164    31     19     50   0.61   62.00%  71.27  <----\n",
       "5  6.587248e-01  0.853443    22     28     50   1.27   44.00%  69.51       \n",
       "6  8.561391e-01  0.958957     7     43     50   6.14   14.00%  55.74       \n",
       "7  9.623505e-01  0.987179     1     49     50  49.00    2.00%  37.16       \n",
       "8  9.875471e-01  0.997897     2     48     50  24.00    4.00%  19.38       \n",
       "9  9.979229e-01  0.999997     0     50     50    inf    0.00%  -0.00       "
      ]
     },
     "execution_count": 7,
     "metadata": {},
     "output_type": "execute_result"
    }
   ],
   "source": [
    "summary(data, n_group = 10)"
   ]
  },
  {
   "cell_type": "markdown",
   "metadata": {},
   "source": [
    "## example 2"
   ]
  },
  {
   "cell_type": "code",
   "execution_count": 8,
   "metadata": {},
   "outputs": [],
   "source": [
    "import pandas as pd\n",
    "import numpy as np\n",
    "from sklearn.metrics import roc_curve\n",
    "import matplotlib.pyplot as plt"
   ]
  },
  {
   "cell_type": "code",
   "execution_count": 9,
   "metadata": {},
   "outputs": [],
   "source": [
    "data = pd.read_csv('refs/two_class_example.csv')"
   ]
  },
  {
   "cell_type": "code",
   "execution_count": 17,
   "metadata": {},
   "outputs": [],
   "source": [
    "# export\n",
    "'''Calculation KS statistic for a model by ROC curve.'''\n",
    "\n",
    "import pandas as pd\n",
    "import numpy as np\n",
    "from sklearn.metrics import roc_curve\n",
    "import matplotlib.pyplot as plt\n",
    "\n",
    "def plot(data):\n",
    "    '''Calculation KS statistic\n",
    "    Inspired by one Christoforos Anagnostopoulos's tutorial at\n",
    "    https://www.datacamp.com/courses/designing-machine-learning-workflows-in-python\n",
    "\n",
    "    Parmaters\n",
    "    ---------\n",
    "    data: pandas.DataFrame\n",
    "          with y and yhat.\n",
    "          y is  target.\n",
    "          yhat is prediction.'''\n",
    "    fpr, tpr, thres = roc_curve(data['y'], data['yhat'])\n",
    "    ks = tpr - fpr\n",
    "    ks_max = np.max(ks)\n",
    "    print(ks_max)\n",
    "\n",
    "    plt.plot(thres, ks)\n",
    "    plt.plot(thres, tpr)\n",
    "    plt.plot(thres, fpr)\n",
    "    plt.xlabel('Cutoff')\n",
    "    plt.ylabel('KS')\n",
    "    plt.title(str(ks_max))\n",
    "    plt.xlim(0,1)\n",
    "    plt.show()\n",
    "    plt.clf()\n",
    "\n",
    "    print(\"The function `plot` is depreciated, use `perf.plot()`\")\n",
    "    return ks_max"
   ]
  },
  {
   "cell_type": "code",
   "execution_count": 18,
   "metadata": {},
   "outputs": [
    {
     "name": "stdout",
     "output_type": "stream",
     "text": [
      "0.727689153693382\n"
     ]
    },
    {
     "data": {
      "image/png": "[encoded data removed]",
      "text/plain": [
       "<Figure size 432x288 with 1 Axes>"
      ]
     },
     "metadata": {
      "needs_background": "light"
     },
     "output_type": "display_data"
    },
    {
     "name": "stdout",
     "output_type": "stream",
     "text": [
      "The function `plot` is depreciated, use `perf.plot()`\n"
     ]
    },
    {
     "data": {
      "text/plain": [
       "0.727689153693382"
      ]
     },
     "execution_count": 18,
     "metadata": {},
     "output_type": "execute_result"
    },
    {
     "data": {
      "text/plain": [
       "<Figure size 432x288 with 0 Axes>"
      ]
     },
     "metadata": {},
     "output_type": "display_data"
    }
   ],
   "source": [
    "plot(data)"
   ]
  },
  {
   "cell_type": "markdown",
   "metadata": {},
   "source": [
    "## example 3"
   ]
  },
  {
   "cell_type": "code",
   "execution_count": 19,
   "metadata": {},
   "outputs": [],
   "source": [
    "# export\n",
    "import pandas as pd\n",
    "import numpy as np\n",
    "from sklearn.metrics import roc_curve\n",
    "import matplotlib.pyplot as plt\n",
    "\n",
    "class perf:\n",
    "    \n",
    "    FUNCTION_NAME = 'Calculate and Plot KS Statistic '\n",
    "\n",
    "    def __init__(self, df, n_group=10):\n",
    "        self.df = df\n",
    "        self.n_group = n_group\n",
    "    \n",
    "    def __name__(self):\n",
    "        return self.MODEL_NAME\n",
    "\n",
    "    def table(self):\n",
    "        return summary(self.df, self.n_group)\n",
    "\n",
    "    def chart(self):\n",
    "        plot(self.df)"
   ]
  },
  {
   "cell_type": "code",
   "execution_count": 20,
   "metadata": {},
   "outputs": [],
   "source": [
    "data = pd.read_csv('refs/two_class_example.csv')"
   ]
  },
  {
   "cell_type": "code",
   "execution_count": 21,
   "metadata": {
    "scrolled": true
   },
   "outputs": [
    {
     "data": {
      "text/html": [
       "<div>\n",
       "<style scoped>\n",
       "    .dataframe tbody tr th:only-of-type {\n",
       "        vertical-align: middle;\n",
       "    }\n",
       "\n",
       "    .dataframe tbody tr th {\n",
       "        vertical-align: top;\n",
       "    }\n",
       "\n",
       "    .dataframe thead th {\n",
       "        text-align: right;\n",
       "    }\n",
       "</style>\n",
       "<table border=\"1\" class=\"dataframe\">\n",
       "  <thead>\n",
       "    <tr style=\"text-align: right;\">\n",
       "      <th></th>\n",
       "      <th>y</th>\n",
       "      <th>yhat</th>\n",
       "    </tr>\n",
       "  </thead>\n",
       "  <tbody>\n",
       "    <tr>\n",
       "      <th>0</th>\n",
       "      <td>0</td>\n",
       "      <td>0.003589</td>\n",
       "    </tr>\n",
       "    <tr>\n",
       "      <th>1</th>\n",
       "      <td>1</td>\n",
       "      <td>0.678621</td>\n",
       "    </tr>\n",
       "    <tr>\n",
       "      <th>2</th>\n",
       "      <td>0</td>\n",
       "      <td>0.110894</td>\n",
       "    </tr>\n",
       "    <tr>\n",
       "      <th>3</th>\n",
       "      <td>1</td>\n",
       "      <td>0.735162</td>\n",
       "    </tr>\n",
       "    <tr>\n",
       "      <th>4</th>\n",
       "      <td>0</td>\n",
       "      <td>0.016240</td>\n",
       "    </tr>\n",
       "  </tbody>\n",
       "</table>\n",
       "</div>"
      ],
      "text/plain": [
       "   y      yhat\n",
       "0  0  0.003589\n",
       "1  1  0.678621\n",
       "2  0  0.110894\n",
       "3  1  0.735162\n",
       "4  0  0.016240"
      ]
     },
     "execution_count": 21,
     "metadata": {},
     "output_type": "execute_result"
    }
   ],
   "source": [
    "data.head()"
   ]
  },
  {
   "cell_type": "code",
   "execution_count": 22,
   "metadata": {},
   "outputs": [
    {
     "name": "stdout",
     "output_type": "stream",
     "text": [
      "0.727689153693382\n"
     ]
    },
    {
     "data": {
      "image/png": "[encoded data removed]",
      "text/plain": [
       "<Figure size 432x288 with 1 Axes>"
      ]
     },
     "metadata": {
      "needs_background": "light"
     },
     "output_type": "display_data"
    },
    {
     "name": "stdout",
     "output_type": "stream",
     "text": [
      "The function `plot` is depreciated, use `perf.plot()`\n"
     ]
    },
    {
     "data": {
      "text/plain": [
       "<Figure size 432x288 with 0 Axes>"
      ]
     },
     "metadata": {},
     "output_type": "display_data"
    }
   ],
   "source": [
    "perf(data).chart()"
   ]
  },
  {
   "cell_type": "code",
   "execution_count": 16,
   "metadata": {},
   "outputs": [
    {
     "name": "stdout",
     "output_type": "stream",
     "text": [
      "The function `summary` is depreciated, use `ks.summary()`\n"
     ]
    },
    {
     "data": {
      "text/html": [
       "<div>\n",
       "<style scoped>\n",
       "    .dataframe tbody tr th:only-of-type {\n",
       "        vertical-align: middle;\n",
       "    }\n",
       "\n",
       "    .dataframe tbody tr th {\n",
       "        vertical-align: top;\n",
       "    }\n",
       "\n",
       "    .dataframe thead th {\n",
       "        text-align: right;\n",
       "    }\n",
       "</style>\n",
       "<table border=\"1\" class=\"dataframe\">\n",
       "  <thead>\n",
       "    <tr style=\"text-align: right;\">\n",
       "      <th></th>\n",
       "      <th>min_scr</th>\n",
       "      <th>max_scr</th>\n",
       "      <th>bads</th>\n",
       "      <th>goods</th>\n",
       "      <th>total</th>\n",
       "      <th>odds</th>\n",
       "      <th>bad_rate</th>\n",
       "      <th>ks</th>\n",
       "      <th>max_ks</th>\n",
       "    </tr>\n",
       "  </thead>\n",
       "  <tbody>\n",
       "    <tr>\n",
       "      <th>0</th>\n",
       "      <td>1.794262e-07</td>\n",
       "      <td>0.002773</td>\n",
       "      <td>50</td>\n",
       "      <td>0</td>\n",
       "      <td>50</td>\n",
       "      <td>0.00</td>\n",
       "      <td>100.00%</td>\n",
       "      <td>20.66</td>\n",
       "      <td></td>\n",
       "    </tr>\n",
       "    <tr>\n",
       "      <th>1</th>\n",
       "      <td>2.810221e-03</td>\n",
       "      <td>0.036310</td>\n",
       "      <td>49</td>\n",
       "      <td>1</td>\n",
       "      <td>50</td>\n",
       "      <td>0.02</td>\n",
       "      <td>98.00%</td>\n",
       "      <td>40.52</td>\n",
       "      <td></td>\n",
       "    </tr>\n",
       "    <tr>\n",
       "      <th>2</th>\n",
       "      <td>3.670582e-02</td>\n",
       "      <td>0.122027</td>\n",
       "      <td>43</td>\n",
       "      <td>7</td>\n",
       "      <td>50</td>\n",
       "      <td>0.16</td>\n",
       "      <td>86.00%</td>\n",
       "      <td>55.58</td>\n",
       "      <td></td>\n",
       "    </tr>\n",
       "    <tr>\n",
       "      <th>3</th>\n",
       "      <td>1.225460e-01</td>\n",
       "      <td>0.325715</td>\n",
       "      <td>37</td>\n",
       "      <td>13</td>\n",
       "      <td>50</td>\n",
       "      <td>0.35</td>\n",
       "      <td>74.00%</td>\n",
       "      <td>65.83</td>\n",
       "      <td></td>\n",
       "    </tr>\n",
       "    <tr>\n",
       "      <th>4</th>\n",
       "      <td>3.269821e-01</td>\n",
       "      <td>0.655164</td>\n",
       "      <td>31</td>\n",
       "      <td>19</td>\n",
       "      <td>50</td>\n",
       "      <td>0.61</td>\n",
       "      <td>62.00%</td>\n",
       "      <td>71.27</td>\n",
       "      <td>&lt;----</td>\n",
       "    </tr>\n",
       "    <tr>\n",
       "      <th>5</th>\n",
       "      <td>6.587248e-01</td>\n",
       "      <td>0.853443</td>\n",
       "      <td>22</td>\n",
       "      <td>28</td>\n",
       "      <td>50</td>\n",
       "      <td>1.27</td>\n",
       "      <td>44.00%</td>\n",
       "      <td>69.51</td>\n",
       "      <td></td>\n",
       "    </tr>\n",
       "    <tr>\n",
       "      <th>6</th>\n",
       "      <td>8.561391e-01</td>\n",
       "      <td>0.958957</td>\n",
       "      <td>7</td>\n",
       "      <td>43</td>\n",
       "      <td>50</td>\n",
       "      <td>6.14</td>\n",
       "      <td>14.00%</td>\n",
       "      <td>55.74</td>\n",
       "      <td></td>\n",
       "    </tr>\n",
       "    <tr>\n",
       "      <th>7</th>\n",
       "      <td>9.623505e-01</td>\n",
       "      <td>0.987179</td>\n",
       "      <td>1</td>\n",
       "      <td>49</td>\n",
       "      <td>50</td>\n",
       "      <td>49.00</td>\n",
       "      <td>2.00%</td>\n",
       "      <td>37.16</td>\n",
       "      <td></td>\n",
       "    </tr>\n",
       "    <tr>\n",
       "      <th>8</th>\n",
       "      <td>9.875471e-01</td>\n",
       "      <td>0.997897</td>\n",
       "      <td>2</td>\n",
       "      <td>48</td>\n",
       "      <td>50</td>\n",
       "      <td>24.00</td>\n",
       "      <td>4.00%</td>\n",
       "      <td>19.38</td>\n",
       "      <td></td>\n",
       "    </tr>\n",
       "    <tr>\n",
       "      <th>9</th>\n",
       "      <td>9.979229e-01</td>\n",
       "      <td>0.999997</td>\n",
       "      <td>0</td>\n",
       "      <td>50</td>\n",
       "      <td>50</td>\n",
       "      <td>inf</td>\n",
       "      <td>0.00%</td>\n",
       "      <td>-0.00</td>\n",
       "      <td></td>\n",
       "    </tr>\n",
       "  </tbody>\n",
       "</table>\n",
       "</div>"
      ],
      "text/plain": [
       "        min_scr   max_scr  bads  goods  total   odds bad_rate     ks max_ks\n",
       "0  1.794262e-07  0.002773    50      0     50   0.00  100.00%  20.66       \n",
       "1  2.810221e-03  0.036310    49      1     50   0.02   98.00%  40.52       \n",
       "2  3.670582e-02  0.122027    43      7     50   0.16   86.00%  55.58       \n",
       "3  1.225460e-01  0.325715    37     13     50   0.35   74.00%  65.83       \n",
       "4  3.269821e-01  0.655164    31     19     50   0.61   62.00%  71.27  <----\n",
       "5  6.587248e-01  0.853443    22     28     50   1.27   44.00%  69.51       \n",
       "6  8.561391e-01  0.958957     7     43     50   6.14   14.00%  55.74       \n",
       "7  9.623505e-01  0.987179     1     49     50  49.00    2.00%  37.16       \n",
       "8  9.875471e-01  0.997897     2     48     50  24.00    4.00%  19.38       \n",
       "9  9.979229e-01  0.999997     0     50     50    inf    0.00%  -0.00       "
      ]
     },
     "execution_count": 16,
     "metadata": {},
     "output_type": "execute_result"
    }
   ],
   "source": [
    "perf(data).table()"
   ]
  }
 ],
 "metadata": {
  "kernelspec": {
   "display_name": "Python 3",
   "language": "python",
   "name": "python3"
  },
  "language_info": {
   "codemirror_mode": {
    "name": "ipython",
    "version": 3
   },
   "file_extension": ".py",
   "mimetype": "text/x-python",
   "name": "python",
   "nbconvert_exporter": "python",
   "pygments_lexer": "ipython3",
   "version": "3.7.3"
  }
 },
 "nbformat": 4,
 "nbformat_minor": 2
}
