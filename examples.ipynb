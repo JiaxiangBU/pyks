{
 "cells": [
  {
   "cell_type": "code",
   "execution_count": 12,
   "metadata": {},
   "outputs": [],
   "source": [
    "import pandas as pd\n",
    "import numpy as np"
   ]
  },
  {
   "cell_type": "code",
   "execution_count": 13,
   "metadata": {},
   "outputs": [],
   "source": [
    "data = pd.read_csv('refs/two_class_example.csv')"
   ]
  },
  {
   "cell_type": "markdown",
   "metadata": {},
   "source": [
    "路径也支持联想输入"
   ]
  },
  {
   "cell_type": "code",
   "execution_count": 14,
   "metadata": {
    "scrolled": true
   },
   "outputs": [
    {
     "name": "stdout",
     "output_type": "stream",
     "text": [
      "                y          yhat\n",
      "count  500.000000  5.000000e+02\n",
      "mean     0.516000  5.447397e-01\n",
      "std      0.500244  4.138621e-01\n",
      "min      0.000000  1.794262e-07\n",
      "25%      0.000000  7.289481e-02\n",
      "50%      1.000000  6.569442e-01\n",
      "75%      1.000000  9.794348e-01\n",
      "max      1.000000  9.999965e-01\n",
      "y       500\n",
      "yhat    500\n",
      "dtype: int64\n"
     ]
    }
   ],
   "source": [
    "data.describe().pipe(print)\n",
    "data.count().pipe(print)"
   ]
  },
  {
   "cell_type": "markdown",
   "metadata": {},
   "source": [
    "`y=1`判断为好人，相应地，`yhat`普遍会高。"
   ]
  },
  {
   "cell_type": "code",
   "execution_count": 15,
   "metadata": {},
   "outputs": [],
   "source": [
    "data[\"good\"] = data.y\n",
    "data[\"bad\"] = 1 - data.y\n",
    "data[\"score\"] = data.yhat"
   ]
  },
  {
   "cell_type": "code",
   "execution_count": 18,
   "metadata": {},
   "outputs": [],
   "source": [
    "from pyks.ks import summary"
   ]
  },
  {
   "cell_type": "code",
   "execution_count": 19,
   "metadata": {},
   "outputs": [
    {
     "data": {
      "text/html": [
       "<div>\n",
       "<style scoped>\n",
       "    .dataframe tbody tr th:only-of-type {\n",
       "        vertical-align: middle;\n",
       "    }\n",
       "\n",
       "    .dataframe tbody tr th {\n",
       "        vertical-align: top;\n",
       "    }\n",
       "\n",
       "    .dataframe thead th {\n",
       "        text-align: right;\n",
       "    }\n",
       "</style>\n",
       "<table border=\"1\" class=\"dataframe\">\n",
       "  <thead>\n",
       "    <tr style=\"text-align: right;\">\n",
       "      <th></th>\n",
       "      <th>min_scr</th>\n",
       "      <th>max_scr</th>\n",
       "      <th>bads</th>\n",
       "      <th>goods</th>\n",
       "      <th>total</th>\n",
       "      <th>odds</th>\n",
       "      <th>bad_rate</th>\n",
       "      <th>ks</th>\n",
       "      <th>max_ks</th>\n",
       "    </tr>\n",
       "  </thead>\n",
       "  <tbody>\n",
       "    <tr>\n",
       "      <th>0</th>\n",
       "      <td>1.794262e-07</td>\n",
       "      <td>0.002773</td>\n",
       "      <td>50</td>\n",
       "      <td>0</td>\n",
       "      <td>50</td>\n",
       "      <td>0.00</td>\n",
       "      <td>100.00%</td>\n",
       "      <td>20.66</td>\n",
       "      <td></td>\n",
       "    </tr>\n",
       "    <tr>\n",
       "      <th>1</th>\n",
       "      <td>2.810221e-03</td>\n",
       "      <td>0.036310</td>\n",
       "      <td>49</td>\n",
       "      <td>1</td>\n",
       "      <td>50</td>\n",
       "      <td>0.02</td>\n",
       "      <td>98.00%</td>\n",
       "      <td>40.52</td>\n",
       "      <td></td>\n",
       "    </tr>\n",
       "    <tr>\n",
       "      <th>2</th>\n",
       "      <td>3.670582e-02</td>\n",
       "      <td>0.122027</td>\n",
       "      <td>43</td>\n",
       "      <td>7</td>\n",
       "      <td>50</td>\n",
       "      <td>0.16</td>\n",
       "      <td>86.00%</td>\n",
       "      <td>55.58</td>\n",
       "      <td></td>\n",
       "    </tr>\n",
       "    <tr>\n",
       "      <th>3</th>\n",
       "      <td>1.225460e-01</td>\n",
       "      <td>0.325715</td>\n",
       "      <td>37</td>\n",
       "      <td>13</td>\n",
       "      <td>50</td>\n",
       "      <td>0.35</td>\n",
       "      <td>74.00%</td>\n",
       "      <td>65.83</td>\n",
       "      <td></td>\n",
       "    </tr>\n",
       "    <tr>\n",
       "      <th>4</th>\n",
       "      <td>3.269821e-01</td>\n",
       "      <td>0.655164</td>\n",
       "      <td>31</td>\n",
       "      <td>19</td>\n",
       "      <td>50</td>\n",
       "      <td>0.61</td>\n",
       "      <td>62.00%</td>\n",
       "      <td>71.27</td>\n",
       "      <td>&lt;----</td>\n",
       "    </tr>\n",
       "    <tr>\n",
       "      <th>5</th>\n",
       "      <td>6.587248e-01</td>\n",
       "      <td>0.853443</td>\n",
       "      <td>22</td>\n",
       "      <td>28</td>\n",
       "      <td>50</td>\n",
       "      <td>1.27</td>\n",
       "      <td>44.00%</td>\n",
       "      <td>69.51</td>\n",
       "      <td></td>\n",
       "    </tr>\n",
       "    <tr>\n",
       "      <th>6</th>\n",
       "      <td>8.561391e-01</td>\n",
       "      <td>0.958957</td>\n",
       "      <td>7</td>\n",
       "      <td>43</td>\n",
       "      <td>50</td>\n",
       "      <td>6.14</td>\n",
       "      <td>14.00%</td>\n",
       "      <td>55.74</td>\n",
       "      <td></td>\n",
       "    </tr>\n",
       "    <tr>\n",
       "      <th>7</th>\n",
       "      <td>9.623505e-01</td>\n",
       "      <td>0.987179</td>\n",
       "      <td>1</td>\n",
       "      <td>49</td>\n",
       "      <td>50</td>\n",
       "      <td>49.00</td>\n",
       "      <td>2.00%</td>\n",
       "      <td>37.16</td>\n",
       "      <td></td>\n",
       "    </tr>\n",
       "    <tr>\n",
       "      <th>8</th>\n",
       "      <td>9.875471e-01</td>\n",
       "      <td>0.997897</td>\n",
       "      <td>2</td>\n",
       "      <td>48</td>\n",
       "      <td>50</td>\n",
       "      <td>24.00</td>\n",
       "      <td>4.00%</td>\n",
       "      <td>19.38</td>\n",
       "      <td></td>\n",
       "    </tr>\n",
       "    <tr>\n",
       "      <th>9</th>\n",
       "      <td>9.979229e-01</td>\n",
       "      <td>0.999997</td>\n",
       "      <td>0</td>\n",
       "      <td>50</td>\n",
       "      <td>50</td>\n",
       "      <td>inf</td>\n",
       "      <td>0.00%</td>\n",
       "      <td>-0.00</td>\n",
       "      <td></td>\n",
       "    </tr>\n",
       "  </tbody>\n",
       "</table>\n",
       "</div>"
      ],
      "text/plain": [
       "        min_scr   max_scr  bads  goods  total   odds bad_rate     ks max_ks\n",
       "0  1.794262e-07  0.002773    50      0     50   0.00  100.00%  20.66       \n",
       "1  2.810221e-03  0.036310    49      1     50   0.02   98.00%  40.52       \n",
       "2  3.670582e-02  0.122027    43      7     50   0.16   86.00%  55.58       \n",
       "3  1.225460e-01  0.325715    37     13     50   0.35   74.00%  65.83       \n",
       "4  3.269821e-01  0.655164    31     19     50   0.61   62.00%  71.27  <----\n",
       "5  6.587248e-01  0.853443    22     28     50   1.27   44.00%  69.51       \n",
       "6  8.561391e-01  0.958957     7     43     50   6.14   14.00%  55.74       \n",
       "7  9.623505e-01  0.987179     1     49     50  49.00    2.00%  37.16       \n",
       "8  9.875471e-01  0.997897     2     48     50  24.00    4.00%  19.38       \n",
       "9  9.979229e-01  0.999997     0     50     50    inf    0.00%  -0.00       "
      ]
     },
     "execution_count": 19,
     "metadata": {},
     "output_type": "execute_result"
    }
   ],
   "source": [
    "summary(data, n_group = 10)"
   ]
  },
  {
   "cell_type": "code",
   "execution_count": null,
   "metadata": {},
   "outputs": [],
   "source": []
  }
 ],
 "metadata": {
  "kernelspec": {
   "display_name": "Python 3",
   "language": "python",
   "name": "python3"
  },
  "language_info": {
   "codemirror_mode": {
    "name": "ipython",
    "version": 3
   },
   "file_extension": ".py",
   "mimetype": "text/x-python",
   "name": "python",
   "nbconvert_exporter": "python",
   "pygments_lexer": "ipython3",
   "version": "3.7.1"
  }
 },
 "nbformat": 4,
 "nbformat_minor": 2
}
